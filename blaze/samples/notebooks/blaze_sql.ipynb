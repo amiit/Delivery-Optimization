{
 "metadata": {
  "name": ""
 },
 "nbformat": 3,
 "nbformat_minor": 0,
 "worksheets": [
  {
   "cells": [
    {
     "cell_type": "code",
     "collapsed": false,
     "input": [
      "import blaze"
     ],
     "language": "python",
     "metadata": {},
     "outputs": [],
     "prompt_number": 1
    },
    {
     "cell_type": "markdown",
     "metadata": {},
     "source": [
      "<h1>Connecting to a Database</h1>\n",
      "\n",
      "In this tutorial we will use SQLite to make it easy to produce a self-contained, runable, tutorial."
     ]
    },
    {
     "cell_type": "code",
     "collapsed": false,
     "input": [
      "import sqlite3 as db"
     ],
     "language": "python",
     "metadata": {},
     "outputs": [],
     "prompt_number": 2
    },
    {
     "cell_type": "markdown",
     "metadata": {},
     "source": [
      "Create schema:"
     ]
    },
    {
     "cell_type": "code",
     "collapsed": false,
     "input": [
      "conn = db.connect(\":memory:\")\n",
      "c = conn.cursor()\n",
      "c.execute('''create table TestTable\n",
      "(id INTEGER PRIMARY KEY, content text, value real)''')"
     ],
     "language": "python",
     "metadata": {},
     "outputs": [
      {
       "metadata": {},
       "output_type": "pyout",
       "prompt_number": 3,
       "text": [
        "<sqlite3.Cursor at 0x1149dd9d0>"
       ]
      }
     ],
     "prompt_number": 3
    },
    {
     "cell_type": "markdown",
     "metadata": {},
     "source": [
      "Populate Test Table:"
     ]
    },
    {
     "cell_type": "code",
     "collapsed": false,
     "input": [
      "data = [\n",
      "    (1,  \"hello\", 2.1),\n",
      "    (2,  \"world\", 4.2),\n",
      "    (3, \"!\",     8.4),\n",
      "]\n",
      "\n",
      "c.executemany(\"\"\"insert into testtable\n",
      "              values (?, ?, ?)\"\"\", data)\n",
      "conn.commit()\n",
      "c.close()"
     ],
     "language": "python",
     "metadata": {},
     "outputs": [],
     "prompt_number": 4
    },
    {
     "cell_type": "code",
     "collapsed": false,
     "input": [
      "list(conn.execute(\"SELECT * from TestTable\"))"
     ],
     "language": "python",
     "metadata": {},
     "outputs": [
      {
       "metadata": {},
       "output_type": "pyout",
       "prompt_number": 5,
       "text": [
        "[(1, u'hello', 2.1), (2, u'world', 4.2), (3, u'!', 8.4)]"
       ]
      }
     ],
     "prompt_number": 5
    },
    {
     "cell_type": "markdown",
     "metadata": {},
     "source": [
      "<h1>Connecting from Blaze</h1>\n",
      "\n",
      "We can connect to an SQL database using the <b>sql_table</b> and <b>sql_column</b> functions."
     ]
    },
    {
     "cell_type": "code",
     "collapsed": false,
     "input": [
      "from datashape import dshape\n",
      "from blaze.io.sql import sql_table, sql_column"
     ],
     "language": "python",
     "metadata": {},
     "outputs": [],
     "prompt_number": 6
    },
    {
     "cell_type": "code",
     "collapsed": false,
     "input": [
      "table = sql_table(\n",
      "            'testtable',\n",
      "            ['id', 'msg', 'price'],\n",
      "            [dshape('int32'), dshape('string'), dshape('float64')],\n",
      "            conn)"
     ],
     "language": "python",
     "metadata": {},
     "outputs": [],
     "prompt_number": 7
    },
    {
     "cell_type": "code",
     "collapsed": false,
     "input": [
      "print table"
     ],
     "language": "python",
     "metadata": {},
     "outputs": [
      {
       "output_type": "stream",
       "stream": "stdout",
       "text": [
        "<sql col testtable.* with shape var * { id : int32, msg : string, price : float64 }>\n"
       ]
      }
     ],
     "prompt_number": 8
    },
    {
     "cell_type": "code",
     "collapsed": false,
     "input": [
      "table['id']"
     ],
     "language": "python",
     "metadata": {},
     "outputs": [
      {
       "metadata": {},
       "output_type": "pyout",
       "prompt_number": 9,
       "text": [
        "SQLDataDescriptor(testtable.id)"
       ]
      }
     ],
     "prompt_number": 9
    },
    {
     "cell_type": "code",
     "collapsed": false,
     "input": [
      "blaze.eval(table['id'])"
     ],
     "language": "python",
     "metadata": {},
     "outputs": [
      {
       "metadata": {},
       "output_type": "pyout",
       "prompt_number": 10,
       "text": [
        "array([1, 2, 3],\n",
        "      dshape='3 * int32')"
       ]
      }
     ],
     "prompt_number": 10
    }
   ],
   "metadata": {}
  }
 ]
}