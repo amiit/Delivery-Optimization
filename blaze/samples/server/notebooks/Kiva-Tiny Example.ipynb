{
 "metadata": {
  "name": ""
 },
 "nbformat": 3,
 "nbformat_minor": 0,
 "worksheets": [
  {
   "cells": [
    {
     "cell_type": "heading",
     "level": 2,
     "metadata": {},
     "source": [
      "Starting a Blaze Server"
     ]
    },
    {
     "cell_type": "markdown",
     "metadata": {},
     "source": [
      "Before running this notebook, start the example Blaze server\n",
      "in the [blaze_web]/example directory.\n",
      "\n",
      "```\n",
      "    ~/blaze_web/example $ python start_server.py\n",
      "    Starting Blaze Server\n",
      "```"
     ]
    },
    {
     "cell_type": "heading",
     "level": 2,
     "metadata": {},
     "source": [
      "Viewing an array from the browser"
     ]
    },
    {
     "cell_type": "markdown",
     "metadata": {},
     "source": [
      "If the server started properly, it is now serving data from localhost:8080. The data it is serving corresponds with the array data in the example/arrays subdirectory, which you can browse to see the included example data. To see the tiny subset of a Kiva data snapshot, navigate to\n",
      "\n",
      "http://localhost:8080/kiva_tiny/loans\n",
      "\n",
      "What you should see is an annotated version of the Blaze datashape for the raw dataset. At the beginning, you should see\n",
      "\n",
      "```ruby\n",
      "    type BlazeDataShape = 23, {\n",
      "```\n",
      "\n",
      "which tells you that the data is an array of 23 elements, and each element is a record. In this case, the data is from samples/server/arrays/kiva_tiny/loans.json."
     ]
    },
    {
     "cell_type": "markdown",
     "metadata": {},
     "source": [
      "At the top of the record datashape, there is an `id` field. We can click on this field to access this field, leading to the following url:\n",
      "\n",
      "http://localhost:8080/kiva_tiny/loans.id\n",
      "\n",
      "where we can see that accessing fields is like attribute access in Python. You can see a JSON version of the data for the array by clicking on the `JSON` link near the top. This takes you to\n",
      "\n",
      "http://localhost:8080/kiva_tiny/loans.id?r=data.json\n",
      "\n",
      "Similarly, you can get the Blaze datashape in its raw form by clicking on the 'BlazeDataShape' link.\n",
      "\n",
      "http://localhost:8080/kiva_tiny/loans.id?r=datashape"
     ]
    },
    {
     "cell_type": "markdown",
     "metadata": {},
     "source": [
      "Click back to the kiva_tiny/loans array, which is\n",
      "\n",
      "http://localhost:8080/kiva_tiny/loans\n",
      "\n",
      "This can be treated as an array of loans. We can use Python-style indexing to access\n",
      "\n",
      "http://localhost:8080/kiva_tiny/loans[-1]/\n",
      "\n",
      "This access the last item, and the datashape you get starts like\n",
      "\n",
      "```ruby\n",
      "    type BlazeDataShape = {\n",
      "```\n",
      "\n",
      "indicating that it's a single record."
     ]
    },
    {
     "cell_type": "markdown",
     "metadata": {},
     "source": [
      "Python slicing syntax is supported here, for example\n",
      "\n",
      "http://localhost:8080/kiva_tiny/loans[1:15]/\n",
      "\n",
      "From here, you can immediately view the data at a deeper level of the record hierarchy. If you scroll near the bottom to the 'payments' field, and click on the 'JSON' link beside the field 'amount', it will take you to the link\n",
      "\n",
      "http://localhost:8080/kiva_tiny/loans[1:15].payments.amount?r=data.json"
     ]
    },
    {
     "cell_type": "heading",
     "level": 2,
     "metadata": {},
     "source": [
      "Viewing an array from Python"
     ]
    },
    {
     "cell_type": "markdown",
     "metadata": {},
     "source": [
      "In addition to directly accessing the data from a web browser, there is a remote array Python object that can be used to get at the same data. This support is a work in progress, and will move into its proper home, blaze-core, relatively soon."
     ]
    },
    {
     "cell_type": "code",
     "collapsed": false,
     "input": [
      "import blaze\n",
      "from blaze.datadescriptor import RemoteDataDescriptor\n",
      "from IPython.core.display import HTML"
     ],
     "language": "python",
     "metadata": {},
     "outputs": [],
     "prompt_number": 1
    },
    {
     "cell_type": "code",
     "collapsed": false,
     "input": [
      "r = blaze.array(RemoteDataDescriptor('http://localhost:8080/kiva_tiny/loans'))"
     ],
     "language": "python",
     "metadata": {},
     "outputs": [],
     "prompt_number": 2
    },
    {
     "cell_type": "markdown",
     "metadata": {},
     "source": [
      "Let's look at just the payments for the same array subset we just viewed in the web browser."
     ]
    },
    {
     "cell_type": "code",
     "collapsed": false,
     "input": [
      "rpart = r[1:3].payments"
     ],
     "language": "python",
     "metadata": {},
     "outputs": [],
     "prompt_number": 3
    },
    {
     "cell_type": "markdown",
     "metadata": {},
     "source": [
      "The repr of an rarray gives a little bit of information about where the data is from, and what its datashape is."
     ]
    },
    {
     "cell_type": "code",
     "collapsed": false,
     "input": [
      "rpart"
     ],
     "language": "python",
     "metadata": {},
     "outputs": [
      {
       "metadata": {},
       "output_type": "pyout",
       "prompt_number": 4,
       "text": [
        "array(RemoteDataDescriptor('http://localhost:8080/kiva_tiny/loans[1:3].payments'),\n",
        "      dshape='2, var, { amount : float64; local_amount : float64; processed_date : json; settlement_date : json; rounded_local_amount : float64; currency_exchange_loss_amount : float64; payment_id : int64; comment : json }')"
       ]
      }
     ],
     "prompt_number": 4
    },
    {
     "cell_type": "markdown",
     "metadata": {},
     "source": [
      "The data can be retrieved locally using the 'blaze.eval' function. This downloads the data into a local in-memory array."
     ]
    },
    {
     "cell_type": "code",
     "collapsed": false,
     "input": [
      "blaze.eval(rpart)"
     ],
     "language": "python",
     "metadata": {},
     "outputs": [
      {
       "metadata": {},
       "output_type": "pyout",
       "prompt_number": 5,
       "text": [
        "array(\n",
        "[[],\n",
        " [ {'amount': 1.0, 'processed_date': '\"2010-09-30T07:00:00Z\"', 'payment_id': 172244766, 'settlement_date': '\"2010-10-16T08:33:19Z\"', 'rounded_local_amount': 1.0, 'local_amount': 1.0, 'currency_exchange_loss_amount': 0.0, 'comment': 'null'}]],\n",
        "      dshape='2, var, { amount : float64; local_amount : float64; processed_date : json; settlement_date : json; rounded_local_amount : float64; currency_exchange_loss_amount : float64; payment_id : int64; comment : json }')"
       ]
      }
     ],
     "prompt_number": 5
    },
    {
     "cell_type": "heading",
     "level": 2,
     "metadata": {},
     "source": [
      "Compute Sessions and Computed Fields"
     ]
    },
    {
     "cell_type": "markdown",
     "metadata": {},
     "source": [
      "**NOTE: The following does not work presently, it's being redesigned.**\n",
      "\n",
      "Now let's take a brief look at a way to do remote computations on a Blaze server, by creating computed fields. Let's say we want to have a field which sums all the payment amounts, so at a glance we can see the total payments. Each loan has a variable-sized array of payments associated at it, for the first payment it looks like this:"
     ]
    },
    {
     "cell_type": "code",
     "collapsed": false,
     "input": [
      "p = r[0].payments\n",
      "p"
     ],
     "language": "python",
     "metadata": {},
     "outputs": [
      {
       "metadata": {},
       "output_type": "pyout",
       "prompt_number": 6,
       "text": [
        "array(RemoteDataDescriptor('http://localhost:8080/kiva_tiny/loans[0].payments'),\n",
        "      dshape='9, { amount : float64; local_amount : float64; processed_date : json; settlement_date : json; rounded_local_amount : float64; currency_exchange_loss_amount : float64; payment_id : int64; comment : json }')"
       ]
      }
     ],
     "prompt_number": 6
    },
    {
     "cell_type": "code",
     "collapsed": false,
     "input": [
      "p.amount"
     ],
     "language": "python",
     "metadata": {},
     "outputs": [
      {
       "metadata": {},
       "output_type": "pyout",
       "prompt_number": 7,
       "text": [
        "array(RemoteDataDescriptor('http://localhost:8080/kiva_tiny/loans[0].payments.amount'),\n",
        "      dshape='9, float64')"
       ]
      }
     ],
     "prompt_number": 7
    },
    {
     "cell_type": "markdown",
     "metadata": {},
     "source": [
      "We'd like a field which gives us"
     ]
    },
    {
     "cell_type": "code",
     "collapsed": false,
     "input": [
      "import numpy as np\n",
      "np.sum(p.amount)"
     ],
     "language": "python",
     "metadata": {},
     "outputs": []
    },
    {
     "cell_type": "markdown",
     "metadata": {},
     "source": [
      "To create this computed field, first we need to start a compute session on the server, as follows."
     ]
    },
    {
     "cell_type": "code",
     "collapsed": false,
     "input": [
      "from blaze.client.session import session\n",
      "s = session(r.url)"
     ],
     "language": "python",
     "metadata": {},
     "outputs": []
    },
    {
     "cell_type": "markdown",
     "metadata": {},
     "source": [
      "Now we can use the add_computed_fields function provided on 's' to get an array with the sum."
     ]
    },
    {
     "cell_type": "code",
     "collapsed": false,
     "input": [
      "r2 = s.add_computed_fields(r, [('payment_total_amount', ndt.float64,\n",
      "                               'sum(as_numpy(payments.amount))')])\n",
      "HTML('<a href=\"%s\" target=\"_blank\">%s</a>' % (r2.url, r2.url))"
     ],
     "language": "python",
     "metadata": {},
     "outputs": []
    },
    {
     "cell_type": "markdown",
     "metadata": {},
     "source": [
      "Click on the link, scroll down to the bottom, and you should see a new field called 'payment_total_amount'. If you click on the 'JSON' link beside it, it should give you the sums. Alternatively, we can get it with Python."
     ]
    },
    {
     "cell_type": "code",
     "collapsed": false,
     "input": [
      "r2.payment_total_amount.get_dynd()"
     ],
     "language": "python",
     "metadata": {},
     "outputs": []
    },
    {
     "cell_type": "markdown",
     "metadata": {},
     "source": [
      "It may be interesting to compare this total amount paid with the original loan amount and the separate paid_amount field. These values are here:"
     ]
    },
    {
     "cell_type": "code",
     "collapsed": false,
     "input": [
      "r2.terms.loan_amount.get_dynd()"
     ],
     "language": "python",
     "metadata": {},
     "outputs": []
    },
    {
     "cell_type": "code",
     "collapsed": false,
     "input": [
      "r2.paid_amount.get_dynd()"
     ],
     "language": "python",
     "metadata": {},
     "outputs": []
    },
    {
     "cell_type": "markdown",
     "metadata": {},
     "source": [
      "This last field is still preserved in JSON, instead of being treated as a native DyND type, because DyND doesn't yet support option types for the missing 'null' values.\n",
      "\n",
      "To see the percentage paid, let's add another computed field."
     ]
    },
    {
     "cell_type": "code",
     "collapsed": false,
     "input": [
      "r3 = s.add_computed_fields(r2, [('percentage_paid', ndt.float64,\n",
      "                                 '100.0 * payment_total_amount / as_py(terms.loan_amount)')])\n",
      "HTML('<a href=\"%s\" target=\"_blank\">%s</a>' % (r3.url, r3.url))"
     ],
     "language": "python",
     "metadata": {},
     "outputs": []
    },
    {
     "cell_type": "code",
     "collapsed": false,
     "input": [
      "r3.percentage_paid.get_dynd()"
     ],
     "language": "python",
     "metadata": {},
     "outputs": []
    },
    {
     "cell_type": "code",
     "collapsed": false,
     "input": [],
     "language": "python",
     "metadata": {},
     "outputs": []
    }
   ],
   "metadata": {}
  }
 ]
}